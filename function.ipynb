{
  "nbformat": 4,
  "nbformat_minor": 0,
  "metadata": {
    "colab": {
      "provenance": []
    },
    "kernelspec": {
      "name": "python3",
      "display_name": "Python 3"
    },
    "language_info": {
      "name": "python"
    }
  },
  "cells": [
    {
      "cell_type": "markdown",
      "source": [
        " Q1 --\n",
        "What is the difference between a function and a method in Python?"
      ],
      "metadata": {
        "id": "F-_R958u09Ia"
      }
    },
    {
      "cell_type": "code",
      "execution_count": null,
      "metadata": {
        "colab": {
          "base_uri": "https://localhost:8080/"
        },
        "id": "WKU0X41Y0One",
        "outputId": "d3afc86e-3614-4ee6-ed94-465962491ea5"
      },
      "outputs": [
        {
          "output_type": "stream",
          "name": "stdout",
          "text": [
            "15\n",
            "15\n"
          ]
        }
      ],
      "source": [
        "\n",
        "#Ans--In Python, a function is a block of code that performs a specific task and can be called independently, while a method is a function that is specifically associated with an object within a class, meaning it operates on the data of that object and is called using dot notation on the object itself; essentially, all methods are functions, but not all functions are methods.\n",
        "#Example\n",
        "# Function example\n",
        "\n",
        "def calculate_area(length, width):\n",
        "\n",
        "    return length * width\n",
        "\n",
        "\n",
        "\n",
        "# Class and method example\n",
        "\n",
        "class Rectangle:\n",
        "\n",
        "    def __init__(self, length, width):\n",
        "\n",
        "        self.length = length\n",
        "\n",
        "        self.width = width\n",
        "\n",
        "\n",
        "\n",
        "    def get_area(self):\n",
        "\n",
        "        return self.length * self.width\n",
        "\n",
        "\n",
        "\n",
        "# Usage\n",
        "\n",
        "rect = Rectangle(5, 3)\n",
        "\n",
        "print(calculate_area(5, 3))  # Output: 15\n",
        "\n",
        "print(rect.get_area())  # Output: 15\n"
      ]
    },
    {
      "cell_type": "markdown",
      "source": [
        "Q2 -- . Explain the concept of function arguments and parameters in Python"
      ],
      "metadata": {
        "id": "EH9UvFEf1U4i"
      }
    },
    {
      "cell_type": "code",
      "source": [
        "#Ans-- A parameter is the variable listed inside the parentheses in the function definition. An argument is the value that are sent to the function when it is called.\n",
        "def greet(name):  # \"name\" is a parameter\n",
        "\n",
        "    print(\"Hello, \" + name + \"!\")\n",
        "\n",
        "\n",
        "\n",
        "greet(\"Alice\")  # \"Alice\" is an argument\n"
      ],
      "metadata": {
        "colab": {
          "base_uri": "https://localhost:8080/"
        },
        "id": "XfALASYX1fj6",
        "outputId": "93e1b44d-59e4-4779-e17b-66304cc41fbc"
      },
      "execution_count": null,
      "outputs": [
        {
          "output_type": "stream",
          "name": "stdout",
          "text": [
            "Hello, Alice!\n"
          ]
        }
      ]
    },
    {
      "cell_type": "markdown",
      "source": [
        "Q3---What are the different ways to define and call a function in Python?"
      ],
      "metadata": {
        "id": "WUvoRDvN2PRx"
      }
    },
    {
      "cell_type": "code",
      "source": [
        "#Ans--To define and call a function in Python, you can use the def keyword, specify the function's parameters, and indent the code block. You can also use special symbols to pass a variable number of arguments to a function.\n",
        "'''Defining a function\n",
        "#Use the def keyword\n",
        "#Write the function's name\n",
        "Calling a function\n",
        "Call the function from anywhere in the program'''\n",
        "\n",
        "\n",
        "#Example of a simple function definition and call:\n",
        "\n",
        "\n",
        "def greet(name):  # Defines a function called \"greet\" that takes one parameter \"name\"\n",
        "\n",
        "    print(\"Hello, \" + name + \"!\")\n",
        "\n",
        "\n",
        "\n",
        "greet(\"Alice\")  # Calls the \"greet\" function with the argument \"Alice\"\n",
        "\n"
      ],
      "metadata": {
        "id": "XxMsyo0r2yew",
        "colab": {
          "base_uri": "https://localhost:8080/"
        },
        "outputId": "b1aab512-9890-429f-e594-9dd559773ee6"
      },
      "execution_count": null,
      "outputs": [
        {
          "output_type": "stream",
          "name": "stdout",
          "text": [
            "Hello, Alice!\n"
          ]
        }
      ]
    },
    {
      "cell_type": "markdown",
      "source": [
        "Q4--What is the purpose of the `return` statement in a Python function?"
      ],
      "metadata": {
        "id": "EdKAQcGf4H2l"
      }
    },
    {
      "cell_type": "code",
      "source": [
        "'''The purpose of the return statement in a Python function is to end the function's execution and return a value to the calling function:\n",
        "Ends the function: The return statement marks the end of a function's execution and passes control back to the calling function.\n",
        "Returns a value: The return statement specifies the value or values to pass back from the function. The value can be of any type, including integers, floats, strings, lists, dictionaries, and other functions.\n",
        "Can't be used outside of a function: The return statement can only be used inside a Python function.\n",
        "Returns None if no return statement: If a function doesn't have a return statement, it returns None.\n",
        "Can include an expression: The return statement can include an expression, which is evaluated and the result is returned. '''\n",
        "\n",
        "#Here's an example of a Python function that uses a return statement:\n",
        "\n",
        "def add(x, y):\n",
        "  result = x + y\n",
        "  return result"
      ],
      "metadata": {
        "id": "rYtaxv5u4ghF"
      },
      "execution_count": null,
      "outputs": []
    },
    {
      "cell_type": "markdown",
      "source": [
        "Q5--What are iterators in Python and how do they differ from iterables?"
      ],
      "metadata": {
        "id": "JCqtfyom5QjE"
      }
    },
    {
      "cell_type": "code",
      "source": [
        "#An Iterable is basically an object that any user can iterate over. An Iterator is also an object that helps a user in iterating over another object (that is iterable).\n",
        "\n",
        "# create a list of integers\n",
        "my_list = [1, 2, 3, 4, 5]\n",
        "\n",
        "# create an iterator from the list\n",
        "iterator = iter(my_list)\n",
        "\n",
        "# iterate through the elements of the iterator\n",
        "for element in iterator:\n",
        "\n",
        "    # Print each element\n",
        "    print(element)"
      ],
      "metadata": {
        "colab": {
          "base_uri": "https://localhost:8080/"
        },
        "id": "kOrh8vYz5jzu",
        "outputId": "6f1ba971-55f6-416b-9af7-73dd17676fb5"
      },
      "execution_count": null,
      "outputs": [
        {
          "output_type": "stream",
          "name": "stdout",
          "text": [
            "1\n",
            "2\n",
            "3\n",
            "4\n",
            "5\n"
          ]
        }
      ]
    },
    {
      "cell_type": "markdown",
      "source": [
        "Q6-- Explain the concept of generators in Python and how they are defined."
      ],
      "metadata": {
        "id": "da7jf8Tb6Pgr"
      }
    },
    {
      "cell_type": "code",
      "source": [
        "'''A generator in Python is a special type of function that generates a sequence of values on demand, one at a time, using the yield keyword instead of return, making it memory-efficient for producing large datasets without storing the entire sequence in memory at once; essentially, it acts like an iterator that can be paused and resumed to produce the next value when needed'''\n",
        "\n",
        "def fibonacci(n):\n",
        "\n",
        "    a, b = 0, 1\n",
        "\n",
        "    for _ in range(n):\n",
        "\n",
        "        yield a\n",
        "\n",
        "        a, b = b, a + b\n",
        "\n",
        "\n",
        "\n",
        "# Usage\n",
        "\n",
        "for num in fibonacci(10):  # Generate first 10 Fibonacci numbers\n",
        "\n",
        "    print(num)\n"
      ],
      "metadata": {
        "colab": {
          "base_uri": "https://localhost:8080/"
        },
        "id": "E6QUs8on6YYr",
        "outputId": "8c911edc-094d-4963-b486-9c5539393697"
      },
      "execution_count": null,
      "outputs": [
        {
          "output_type": "stream",
          "name": "stdout",
          "text": [
            "0\n",
            "1\n",
            "1\n",
            "2\n",
            "3\n",
            "5\n",
            "8\n",
            "13\n",
            "21\n",
            "34\n"
          ]
        }
      ]
    },
    {
      "cell_type": "markdown",
      "source": [
        "Q7-What are the advantages of using generators over regular functions?"
      ],
      "metadata": {
        "id": "vgVP9YuY8R_o"
      }
    },
    {
      "cell_type": "code",
      "source": [
        "'''Generator functions have several advantages over regular functions, including:\n",
        "Memory efficiency\n",
        "Generators only evaluate code when needed, so they don't need to store all values in memory at once. This makes them especially useful for large data sets.\n",
        "Lazy loading\n",
        "Generators can load data on demand, which can improve performance and reduce bandwidth usage.\n",
        "Infinite sequences\n",
        "Generators can create infinite sequences by pausing and resuming. This is useful for real-time data processing.\n",
        "Readability\n",
        "Generators can make code easier to read and understand by breaking up the iteration process into smaller chunks.\n",
        "Speed\n",
        "Generators can be faster than regular loops, especially for large data sets.\n",
        "Flexibility\n",
        "Generators offer a more flexible approach to computation than regular functions.\n",
        "Easy to implement\n",
        "Generators automatically implement iter(), next(), and StopIteration.\n",
        "How generators work\n",
        "Generator functions use yield to produce a sequence of values on demand.\n",
        "The sum function consumes the generator and calculates the sum of all the numbers. '''\n",
        "\n",
        "\n",
        "# Regular function to generate Fibonacci sequence up to a limit (inefficient for large numbers)\n",
        "\n",
        "def fibonacci_list(limit):\n",
        "\n",
        "    a, b = 0, 1\n",
        "\n",
        "    result = []\n",
        "\n",
        "    while b < limit:\n",
        "\n",
        "        result.append(b)\n",
        "\n",
        "        a, b = b, a + b\n",
        "\n",
        "    return result\n",
        "\n",
        "\n",
        "\n",
        "# Generator function to generate Fibonacci sequence\n",
        "\n",
        "def fibonacci_generator(limit):\n",
        "\n",
        "    a, b = 0, 1\n",
        "\n",
        "    while b < limit:\n",
        "\n",
        "        yield b\n",
        "\n",
        "        a, b = b, a + b\n",
        "\n",
        "\n",
        "\n",
        "# Usage\n",
        "\n",
        "\n",
        "\n",
        "# This will store all Fibonacci numbers up to 1000 in a list\n",
        "\n",
        "# fibonacci_numbers = fibonacci_list(1000)\n",
        "\n",
        "\n",
        "\n",
        "# This will only generate Fibonacci numbers as needed\n",
        "\n",
        "for num in fibonacci_generator(1000):\n",
        "\n",
        "    print(num)\n"
      ],
      "metadata": {
        "colab": {
          "base_uri": "https://localhost:8080/"
        },
        "id": "J8XskLLw7grT",
        "outputId": "dade5d81-e3d3-46d2-f225-4417559adfc3"
      },
      "execution_count": null,
      "outputs": [
        {
          "output_type": "stream",
          "name": "stdout",
          "text": [
            "1\n",
            "1\n",
            "2\n",
            "3\n",
            "5\n",
            "8\n",
            "13\n",
            "21\n",
            "34\n",
            "55\n",
            "89\n",
            "144\n",
            "233\n",
            "377\n",
            "610\n",
            "987\n"
          ]
        }
      ]
    },
    {
      "cell_type": "markdown",
      "source": [
        "Q8-- What is a lambda function in Python and when is it typically used?\n",
        "\n"
      ],
      "metadata": {
        "id": "JADE7N_k9YNP"
      }
    },
    {
      "cell_type": "code",
      "source": [
        "'''a small, anonymous function defined using the \"lambda\" keyword, essentially a single-line function that takes arguments and returns a single expression, typically used when a quick, simple function is needed without the need to formally define it with \"def\" keyword'''\n",
        "\n",
        "# This lambda function squares a number\n",
        "\n",
        "square = lambda x: x * x\n",
        "\n",
        "\n",
        "\n",
        "print(square(5))  # Output: 25\n",
        "\n",
        "\n",
        "\n",
        "# Using lambda with map function to square all numbers in a list\n",
        "\n",
        "numbers = [1, 2, 3, 4]\n",
        "\n",
        "squared_numbers = list(map(lambda x: x * x, numbers))\n",
        "\n",
        "print(squared_numbers)  # Output: [1, 4, 9, 16]\n"
      ],
      "metadata": {
        "colab": {
          "base_uri": "https://localhost:8080/"
        },
        "id": "MTi1aio1-Hhk",
        "outputId": "60e698a3-97b0-4499-edf2-d7a47161ee09"
      },
      "execution_count": null,
      "outputs": [
        {
          "output_type": "stream",
          "name": "stdout",
          "text": [
            "25\n",
            "[1, 4, 9, 16]\n"
          ]
        }
      ]
    },
    {
      "cell_type": "markdown",
      "source": [
        "Q9-- Explain the purpose and usage of the `map()` function in Python."
      ],
      "metadata": {
        "id": "r_PBFijK-V_9"
      }
    },
    {
      "cell_type": "code",
      "source": [
        "'''The map() function in Python allows you to apply a specific function to every element within an iterable (like a list or tuple) and returns a new iterable containing the transformed results, essentially \"mapping\" the function across all elements without explicitly looping through them; this is a concise way to perform operations on multiple elements of a collection simultaneously'''\n",
        "\n",
        "numbers = [1, 2, 3, 4]\n",
        "\n",
        "\n",
        "\n",
        "# Square each number in the list using map\n",
        "\n",
        "squares = list(map(lambda x: x**2, numbers))\n",
        "\n",
        "\n",
        "\n",
        "print(squares)  # Output: [1, 4, 9, 16]\n"
      ],
      "metadata": {
        "colab": {
          "base_uri": "https://localhost:8080/"
        },
        "id": "jnZZAZDO-jxo",
        "outputId": "94c1f9ae-0e11-40cb-ffe4-65b354a84e5f"
      },
      "execution_count": null,
      "outputs": [
        {
          "output_type": "stream",
          "name": "stdout",
          "text": [
            "[1, 4, 9, 16]\n"
          ]
        }
      ]
    },
    {
      "cell_type": "markdown",
      "source": [
        "Q10--What is the difference between `map()`, `reduce()`, and `filter()` functions in Python"
      ],
      "metadata": {
        "id": "H8lkdwOl-3zt"
      }
    },
    {
      "cell_type": "code",
      "source": [
        "'''map() is used to apply a given function to each element of an iterable and returns a new iterable with the results. filter() is used to filter elements from an iterable based on a given condition or function and returns a new iterable with the filtered elements.'''\n",
        "\n",
        "numbers = [1, 2, 3, 4, 5]\n",
        "\n",
        "\n",
        "\n",
        "# Square each number using map\n",
        "\n",
        "squared = list(map(lambda x: x**2, numbers))\n",
        "\n",
        "print(squared)  # Output: [1, 4, 9, 16, 25]\n",
        "\n",
        "\n",
        "\n",
        "# Filter even numbers\n",
        "\n",
        "even_numbers = list(filter(lambda x: x % 2 == 0, numbers))\n",
        "\n",
        "print(even_numbers)  # Output: [2, 4]\n"
      ],
      "metadata": {
        "colab": {
          "base_uri": "https://localhost:8080/"
        },
        "id": "__EUUpfB-8cd",
        "outputId": "cd2c7438-31c6-4c7e-a778-8da23edbb351"
      },
      "execution_count": null,
      "outputs": [
        {
          "output_type": "stream",
          "name": "stdout",
          "text": [
            "[1, 4, 9, 16, 25]\n",
            "[2, 4]\n"
          ]
        }
      ]
    },
    {
      "cell_type": "markdown",
      "source": [
        "Q11-- Using pen & Paper write the internal mechanism for sum operation using  reduce function on this given\n",
        "list:[47,11,42,13];"
      ],
      "metadata": {
        "id": "yuuozMIg_wdt"
      }
    },
    {
      "cell_type": "code",
      "source": [
        "# prompt: . Using pen & Paper write the internal mechanism for sum operation using reduce function on this given list:[47,11,42,13];\n",
        "\n",
        "Here's how the `reduce` function would calculate the sum of the list `[47, 11, 42, 13]` step-by-step:\n",
        "\n",
        "1. **Initialization:**  `reduce` starts with the first two elements of the list: 47 and 11.\n",
        "\n",
        "2. **First step:** The function (in this case, addition) is applied to these two elements: 47 + 11 = 58.  The result, 58, becomes the new \"accumulator.\"\n",
        "\n",
        "3. **Second step:** The accumulator (58) is now combined with the next element in the list (42): 58 + 42 = 100.  100 is the new accumulator.\n",
        "\n",
        "4. **Third step:** The accumulator (100) is combined with the final element in the list (13): 100 + 13 = 113.\n",
        "\n",
        "5. **Result:** The final accumulator, 113, is the result of the `reduce` operation (the sum of the list).\n",
        "\n",
        "**In summary:**\n",
        "\n",
        "(47 + 11) + 42 + 13 = 113\n"
      ],
      "metadata": {
        "colab": {
          "base_uri": "https://localhost:8080/",
          "height": 106
        },
        "id": "4rnv_RuWRZIz",
        "outputId": "d2f2c1bb-c5d1-4cf5-fb76-ec05a17c522a"
      },
      "execution_count": null,
      "outputs": [
        {
          "output_type": "error",
          "ename": "SyntaxError",
          "evalue": "unterminated string literal (detected at line 3) (<ipython-input-11-5fd957ce0a1f>, line 3)",
          "traceback": [
            "\u001b[0;36m  File \u001b[0;32m\"<ipython-input-11-5fd957ce0a1f>\"\u001b[0;36m, line \u001b[0;32m3\u001b[0m\n\u001b[0;31m    Here's how the `reduce` function would calculate the sum of the list `[47, 11, 42, 13]` step-by-step:\u001b[0m\n\u001b[0m        ^\u001b[0m\n\u001b[0;31mSyntaxError\u001b[0m\u001b[0;31m:\u001b[0m unterminated string literal (detected at line 3)\n"
          ]
        }
      ]
    },
    {
      "cell_type": "markdown",
      "source": [
        "Q1-- Write a Python function that takes a list of numbers as input and returns the sum of all even numbers in\n",
        "the list."
      ],
      "metadata": {
        "id": "vYjTOjlcNxuJ"
      }
    },
    {
      "cell_type": "code",
      "source": [
        "# prompt: Write a Python function that takes a list of numbers as input and returns the sum of all even numbers in\n",
        "# the list.\n",
        "\n",
        "def sum_of_even_numbers(numbers):\n",
        "  \"\"\"\n",
        "  This function takes a list of numbers and returns the sum of all even numbers in the list.\n",
        "\n",
        "  Args:\n",
        "    numbers: A list of numbers.\n",
        "\n",
        "  Returns:\n",
        "    The sum of all even numbers in the list.\n",
        "  \"\"\"\n",
        "  sum_even = 0\n",
        "  for number in numbers:\n",
        "    if number % 2 == 0:\n",
        "      sum_even += number\n",
        "  return sum_even"
      ],
      "metadata": {
        "id": "CHJ9sWC4OVFO"
      },
      "execution_count": null,
      "outputs": []
    },
    {
      "cell_type": "markdown",
      "source": [
        "Q2--. Create a Python function that accepts a string and returns the reverse of that string"
      ],
      "metadata": {
        "id": "sKJToedPOcqK"
      }
    },
    {
      "cell_type": "code",
      "source": [
        "# prompt: . Create a Python function that accepts a string and returns the reverse of that string\n",
        "\n",
        "def reverse_string(input_string):\n",
        "  \"\"\"\n",
        "  This function takes a string as input and returns the reverse of that string.\n",
        "\n",
        "  Args:\n",
        "    input_string: The string to be reversed.\n",
        "\n",
        "  Returns:\n",
        "    The reversed string.\n",
        "  \"\"\"\n",
        "  return input_string[::-1]"
      ],
      "metadata": {
        "id": "N2V1mU1vOjZ7"
      },
      "execution_count": null,
      "outputs": []
    },
    {
      "cell_type": "markdown",
      "source": [
        "Q3--. Implement a Python function that takes a list of integers and returns a new list containing the squares of\n",
        "each number."
      ],
      "metadata": {
        "id": "6p34cFKYOxnx"
      }
    },
    {
      "cell_type": "code",
      "source": [
        "# prompt: . Implement a Python function that takes a list of integers and returns a new list containing the squares of\n",
        "# each number.\n",
        "\n",
        "def square_numbers(numbers):\n",
        "    \"\"\"\n",
        "    Takes a list of integers and returns a new list containing the squares of each number.\n",
        "\n",
        "    Args:\n",
        "        numbers: A list of integers.\n",
        "\n",
        "    Returns:\n",
        "        A new list with the squares of the input numbers.\n",
        "    \"\"\"\n",
        "    squared_numbers = []\n",
        "    for number in numbers:\n",
        "        squared_numbers.append(number**2)\n",
        "    return squared_numbers"
      ],
      "metadata": {
        "id": "d5zJClYIO0Nh"
      },
      "execution_count": null,
      "outputs": []
    },
    {
      "cell_type": "markdown",
      "source": [
        "Q4-- Write a Python function that checks if a given number is prime or not from 1 to 200"
      ],
      "metadata": {
        "id": "_7_YCy7JO9Jw"
      }
    },
    {
      "cell_type": "code",
      "source": [
        "# prompt:  Write a Python function that checks if a given number is prime or not from 1 to 200\n",
        "\n",
        "def is_prime(number):\n",
        "    \"\"\"\n",
        "    Checks if a given number is prime or not.\n",
        "\n",
        "    Args:\n",
        "        number: The number to check for primality.\n",
        "\n",
        "    Returns:\n",
        "        True if the number is prime, False otherwise.\n",
        "    \"\"\"\n",
        "    if number <= 1:\n",
        "        return False\n",
        "    if number <= 3:\n",
        "        return True\n",
        "    if number % 2 == 0 or number % 3 == 0:\n",
        "        return False\n",
        "    i = 5\n",
        "    while i * i <= number:\n",
        "        if number % i == 0 or number % (i + 2) == 0:\n",
        "            return False\n",
        "        i += 6\n",
        "    return True\n",
        "\n",
        "def print_primes_in_range(limit):\n",
        "    \"\"\"\n",
        "    Prints all prime numbers within a given range (1 to limit).\n",
        "\n",
        "    Args:\n",
        "      limit: The upper limit of the range (inclusive).\n",
        "    \"\"\"\n",
        "    for num in range(2, limit + 1):\n",
        "        if is_prime(num):\n",
        "            print(num)\n",
        "\n",
        "\n",
        "print_primes_in_range(200)"
      ],
      "metadata": {
        "colab": {
          "base_uri": "https://localhost:8080/"
        },
        "id": "DZfy2Yq9PUq6",
        "outputId": "fde11222-1bb4-4944-87d0-0eec0267316d"
      },
      "execution_count": null,
      "outputs": [
        {
          "output_type": "stream",
          "name": "stdout",
          "text": [
            "2\n",
            "3\n",
            "5\n",
            "7\n",
            "11\n",
            "13\n",
            "17\n",
            "19\n",
            "23\n",
            "29\n",
            "31\n",
            "37\n",
            "41\n",
            "43\n",
            "47\n",
            "53\n",
            "59\n",
            "61\n",
            "67\n",
            "71\n",
            "73\n",
            "79\n",
            "83\n",
            "89\n",
            "97\n",
            "101\n",
            "103\n",
            "107\n",
            "109\n",
            "113\n",
            "127\n",
            "131\n",
            "137\n",
            "139\n",
            "149\n",
            "151\n",
            "157\n",
            "163\n",
            "167\n",
            "173\n",
            "179\n",
            "181\n",
            "191\n",
            "193\n",
            "197\n",
            "199\n"
          ]
        }
      ]
    },
    {
      "cell_type": "markdown",
      "source": [
        "Q5---Create an iterator class in Python that generates the Fibonacci sequence up to a specified number of\n",
        "terms"
      ],
      "metadata": {
        "id": "QZiSDp4zPcda"
      }
    },
    {
      "cell_type": "code",
      "source": [
        "# prompt: Create an iterator class in Python that generates the Fibonacci sequence up to a specified number of terms\n",
        "\n",
        "class FibonacciIterator:\n",
        "    def __init__(self, n):\n",
        "        self.n = n\n",
        "        self.a = 0\n",
        "        self.b = 1\n",
        "        self.count = 0\n",
        "\n",
        "    def __iter__(self):\n",
        "        return self\n",
        "\n",
        "    def __next__(self):\n",
        "        if self.count >= self.n:\n",
        "            raise StopIteration\n",
        "\n",
        "        result = self.a\n",
        "        self.a, self.b = self.b, self.a + self.b\n",
        "        self.count += 1\n",
        "        return result"
      ],
      "metadata": {
        "id": "U91J9GZxQdnm"
      },
      "execution_count": null,
      "outputs": []
    },
    {
      "cell_type": "markdown",
      "source": [
        "Q6---. Write a generator function in Python that yields the powers of 2 up to a given exponent.\n",
        "\n"
      ],
      "metadata": {
        "id": "4qZ2MsvLQ1Up"
      }
    },
    {
      "cell_type": "code",
      "source": [
        "# prompt: . Write a generator function in Python that yields the powers of 2 up to a given exponent.\n",
        "\n",
        "def powers_of_2(exponent):\n",
        "    \"\"\"\n",
        "    Generates powers of 2 up to a given exponent.\n",
        "\n",
        "    Args:\n",
        "        exponent: The maximum exponent.\n",
        "\n",
        "    Yields:\n",
        "        Powers of 2 up to 2^exponent.\n",
        "    \"\"\"\n",
        "    for i in range(exponent + 1):\n",
        "        yield 2**i"
      ],
      "metadata": {
        "id": "eD5UOebJREpt"
      },
      "execution_count": null,
      "outputs": []
    },
    {
      "cell_type": "markdown",
      "source": [
        "Q7-- Implement a generator function that reads a file line by line and yields each line as a string."
      ],
      "metadata": {
        "id": "9bGr3CnCRn08"
      }
    },
    {
      "cell_type": "code",
      "source": [
        "# prompt: 7. Implement a generator function that reads a file line by line and yields each line as a string.\n",
        "\n",
        "def file_reader(filename):\n",
        "    \"\"\"\n",
        "    Reads a file line by line and yields each line as a string.\n",
        "    \"\"\"\n",
        "    try:\n",
        "        with open(filename, 'r') as file:\n",
        "            for line in file:\n",
        "                yield line.strip()  # Remove leading/trailing whitespace\n",
        "    except FileNotFoundError:\n",
        "        print(f\"Error: File '{filename}' not found.\")\n",
        "        yield None  # Yield None to indicate an error\n",
        "\n",
        "# Example usage (assuming a file named 'my_file.txt' exists)\n",
        "# for line in file_reader('my_file.txt'):\n",
        "#     if line is not None:  # Check for file reading errors\n",
        "#         print(line)"
      ],
      "metadata": {
        "id": "8M99JKAcR4_j"
      },
      "execution_count": null,
      "outputs": []
    },
    {
      "cell_type": "markdown",
      "source": [
        "Q8--- Use a lambda function in Python to sort a list of tuples based on the second element of each tuple."
      ],
      "metadata": {
        "id": "tx-o0wBTSCtz"
      }
    },
    {
      "cell_type": "code",
      "source": [
        "# prompt: 8. Use a lambda function in Python to sort a list of tuples based on the second element of each tuple.\n",
        "\n",
        "data = [(1, 5), (3, 2), (2, 8), (4, 1)]\n",
        "sorted_data = sorted(data, key=lambda x: x[1])\n",
        "sorted_data"
      ],
      "metadata": {
        "colab": {
          "base_uri": "https://localhost:8080/"
        },
        "id": "98_KWUpCSOLM",
        "outputId": "a907d5a6-0979-4e1e-d627-ffb0f8bea9de"
      },
      "execution_count": null,
      "outputs": [
        {
          "output_type": "execute_result",
          "data": {
            "text/plain": [
              "[(4, 1), (3, 2), (1, 5), (2, 8)]"
            ]
          },
          "metadata": {},
          "execution_count": 13
        }
      ]
    },
    {
      "cell_type": "markdown",
      "source": [
        "Q9---9. Write a Python program that uses `map()` to convert a list of temperatures from Celsius to Fahrenheit."
      ],
      "metadata": {
        "id": "_vihsWS_SW4j"
      }
    },
    {
      "cell_type": "code",
      "source": [
        "# prompt: 9. Write a Python program that uses `map()` to convert a list of temperatures from Celsius to Fahrenheit.\n",
        "\n",
        "def celsius_to_fahrenheit(celsius):\n",
        "  \"\"\"Converts Celsius to Fahrenheit.\"\"\"\n",
        "  return (celsius * 9/5) + 32\n",
        "\n",
        "temperatures_celsius = [0, 10, 20, 30, 40]\n",
        "\n",
        "temperatures_fahrenheit = list(map(celsius_to_fahrenheit, temperatures_celsius))\n",
        "\n",
        "temperatures_fahrenheit"
      ],
      "metadata": {
        "colab": {
          "base_uri": "https://localhost:8080/"
        },
        "id": "VOvUa2XWSm27",
        "outputId": "e4dd84ca-5909-4643-c429-c8db49c5aaa2"
      },
      "execution_count": null,
      "outputs": [
        {
          "output_type": "execute_result",
          "data": {
            "text/plain": [
              "[32.0, 50.0, 68.0, 86.0, 104.0]"
            ]
          },
          "metadata": {},
          "execution_count": 14
        }
      ]
    },
    {
      "cell_type": "markdown",
      "source": [
        "Q10--Create a Python program that uses `filter()` to remove all the vowels from a given string."
      ],
      "metadata": {
        "id": "5j6AjOLOSsGZ"
      }
    },
    {
      "cell_type": "code",
      "source": [
        "# prompt: Create a Python program that uses `filter()` to remove all the vowels from a given string.\n",
        "\n",
        "def remove_vowels(input_string):\n",
        "    vowels = \"aeiouAEIOU\"\n",
        "    return \"\".join(filter(lambda char: char not in vowels, input_string))\n",
        "\n",
        "# Example usage\n",
        "string = \"Hello, World!\"\n",
        "string_without_vowels = remove_vowels(string)\n",
        "print(string_without_vowels)  # Output: Hll, Wrld!"
      ],
      "metadata": {
        "colab": {
          "base_uri": "https://localhost:8080/"
        },
        "id": "zOXeqf9SUA5d",
        "outputId": "a12ed34c-c48c-44a3-8209-ba6f6ea2ff7e"
      },
      "execution_count": null,
      "outputs": [
        {
          "output_type": "stream",
          "name": "stdout",
          "text": [
            "Hll, Wrld!\n"
          ]
        }
      ]
    },
    {
      "cell_type": "markdown",
      "source": [
        "Q11---"
      ],
      "metadata": {
        "id": "2tunGXL-UHnE"
      }
    },
    {
      "cell_type": "code",
      "source": [
        "# Input data: List of sublists containing order details\n",
        "orders = [\n",
        "    [34587, \"Learning Python, Mark Lutz\", 4, 40.95],\n",
        "    [98762, \"Programming Python, Mark Lutz\", 5, 56.80],\n",
        "    [77226, \"Head First Python, Paul Barry\", 3, 32.95],\n",
        "    [88112, \"Einführung in Python3, Bernd Klein\", 3, 24.99]\n",
        "]\n",
        "\n",
        "# Function to calculate the order value with conditions\n",
        "def calculate_order_values(orders):\n",
        "    result = []\n",
        "    for order in orders:\n",
        "        order_number = order[0]\n",
        "        quantity = order[2]\n",
        "        price_per_item = order[3]\n",
        "\n",
        "        # Calculate total price\n",
        "        total_price = quantity * price_per_item\n",
        "\n",
        "        # Add 10,- € if the total price is less than 100,00 €\n",
        "        if total_price < 100:\n",
        "            total_price += 10\n",
        "\n",
        "        # Append the tuple (order_number, total_price) to the result list\n",
        "        result.append((order_number, round(total_price, 2)))  # Rounding to 2 decimal places\n",
        "\n",
        "    return result\n",
        "\n",
        "# Get the result and print it\n",
        "order_values = calculate_order_values(orders)\n",
        "print(order_values)\n"
      ],
      "metadata": {
        "colab": {
          "base_uri": "https://localhost:8080/"
        },
        "id": "LLKCEhHvVRFK",
        "outputId": "19c3fc39-6a63-46ba-cd51-776c3400a4d4"
      },
      "execution_count": null,
      "outputs": [
        {
          "output_type": "stream",
          "name": "stdout",
          "text": [
            "[(34587, 163.8), (98762, 284.0), (77226, 108.85), (88112, 84.97)]\n"
          ]
        }
      ]
    },
    {
      "cell_type": "code",
      "source": [
        "# Input data: List of sublists containing order details\n",
        "orders = [\n",
        "    [34587, \"Learning Python, Mark Lutz\", 4, 40.95],\n",
        "    [98762, \"Programming Python, Mark Lutz\", 5, 56.80],\n",
        "    [77226, \"Head First Python, Paul Barry\", 3, 32.95],\n",
        "    [88112, \"Einführung in Python3, Bernd Klein\", 3, 24.99]\n",
        "]\n",
        "\n",
        "# Using lambda and map to calculate the required result\n",
        "order_values = list(map(\n",
        "    lambda order: (order[0\n"
      ],
      "metadata": {
        "id": "xftM_8bIVvNZ"
      },
      "execution_count": null,
      "outputs": []
    }
  ]
}